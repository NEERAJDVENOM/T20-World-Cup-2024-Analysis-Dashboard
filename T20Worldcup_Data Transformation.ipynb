{
 "cells": [
  {
   "cell_type": "code",
   "execution_count": 0,
   "metadata": {
    "application/vnd.databricks.v1+cell": {
     "cellMetadata": {
      "byteLimit": 2048000,
      "rowLimit": 10000
     },
     "inputWidgets": {},
     "nuid": "332ea077-6479-416c-a986-8336db393787",
     "showTitle": false,
     "title": ""
    }
   },
   "outputs": [],
   "source": [
    "# Set the database context\n",
    "spark.catalog.setCurrentDatabase(\"worldcup_t_20\")\n",
    "# Read the tables into DataFrames\n",
    "matches_df = spark.table(\"matches\")\n",
    "deliveries_df = spark.table(\"deliveries\")"
   ]
  },
  {
   "cell_type": "code",
   "execution_count": 0,
   "metadata": {
    "application/vnd.databricks.v1+cell": {
     "cellMetadata": {
      "byteLimit": 2048000,
      "implicitDf": true,
      "rowLimit": 10000
     },
     "inputWidgets": {},
     "nuid": "259b6316-cff0-458a-b5a6-9a11ec5c1e83",
     "showTitle": false,
     "title": ""
    }
   },
   "outputs": [
    {
     "output_type": "display_data",
     "data": {
      "text/html": [
       "<style scoped>\n",
       "  .table-result-container {\n",
       "    max-height: 300px;\n",
       "    overflow: auto;\n",
       "  }\n",
       "  table, th, td {\n",
       "    border: 1px solid black;\n",
       "    border-collapse: collapse;\n",
       "  }\n",
       "  th, td {\n",
       "    padding: 5px;\n",
       "  }\n",
       "  th {\n",
       "    text-align: left;\n",
       "  }\n",
       "</style><div class='table-result-container'><table class='table-result'><thead style='background-color: white'><tr><th>database</th><th>tableName</th><th>isTemporary</th></tr></thead><tbody><tr><td>worldcup_t_20</td><td>deliveries</td><td>false</td></tr><tr><td>worldcup_t_20</td><td>deliveries_casted</td><td>false</td></tr><tr><td>worldcup_t_20</td><td>matches</td><td>false</td></tr><tr><td>worldcup_t_20</td><td>matches_casted</td><td>false</td></tr><tr><td></td><td>delivery</td><td>true</td></tr><tr><td></td><td>match</td><td>true</td></tr></tbody></table></div>"
      ]
     },
     "metadata": {
      "application/vnd.databricks.v1+output": {
       "addedWidgets": {},
       "aggData": [],
       "aggError": "",
       "aggOverflow": false,
       "aggSchema": [],
       "aggSeriesLimitReached": false,
       "aggType": "",
       "arguments": {},
       "columnCustomDisplayInfos": {},
       "data": [
        [
         "worldcup_t_20",
         "deliveries",
         false
        ],
        [
         "worldcup_t_20",
         "deliveries_casted",
         false
        ],
        [
         "worldcup_t_20",
         "matches",
         false
        ],
        [
         "worldcup_t_20",
         "matches_casted",
         false
        ],
        [
         "",
         "delivery",
         true
        ],
        [
         "",
         "match",
         true
        ]
       ],
       "datasetInfos": [],
       "dbfsResultPath": null,
       "isJsonSchema": true,
       "metadata": {
        "dataframeName": "_sqldf",
        "executionCount": 117
       },
       "overflow": false,
       "plotOptions": {
        "customPlotOptions": {},
        "displayType": "table",
        "pivotAggregation": null,
        "pivotColumns": null,
        "xColumns": null,
        "yColumns": null
       },
       "removedWidgets": [],
       "schema": [
        {
         "metadata": "{}",
         "name": "database",
         "type": "\"string\""
        },
        {
         "metadata": "{}",
         "name": "tableName",
         "type": "\"string\""
        },
        {
         "metadata": "{}",
         "name": "isTemporary",
         "type": "\"boolean\""
        }
       ],
       "type": "table"
      }
     },
     "output_type": "display_data"
    }
   ],
   "source": [
    "%sql\n",
    "show databases;\n",
    "use worldcup_t_20;\n",
    "show tables;"
   ]
  },
  {
   "cell_type": "markdown",
   "metadata": {
    "application/vnd.databricks.v1+cell": {
     "cellMetadata": {},
     "inputWidgets": {},
     "nuid": "9b56af9b-e64e-4311-a97c-ff234c911f10",
     "showTitle": false,
     "title": ""
    }
   },
   "source": [
    "## Change the datatype of columns"
   ]
  },
  {
   "cell_type": "code",
   "execution_count": 0,
   "metadata": {
    "application/vnd.databricks.v1+cell": {
     "cellMetadata": {
      "byteLimit": 2048000,
      "rowLimit": 10000
     },
     "inputWidgets": {},
     "nuid": "e5054f37-b116-4201-8ba6-d6d7f476e2d5",
     "showTitle": false,
     "title": ""
    }
   },
   "outputs": [
    {
     "output_type": "display_data",
     "data": {
      "text/html": [
       "<style scoped>\n",
       "  .table-result-container {\n",
       "    max-height: 300px;\n",
       "    overflow: auto;\n",
       "  }\n",
       "  table, th, td {\n",
       "    border: 1px solid black;\n",
       "    border-collapse: collapse;\n",
       "  }\n",
       "  th, td {\n",
       "    padding: 5px;\n",
       "  }\n",
       "  th {\n",
       "    text-align: left;\n",
       "  }\n",
       "</style><div class='table-result-container'><table class='table-result'><thead style='background-color: white'><tr><th>COLUMN_NAME</th><th>DATA_TYPE</th></tr></thead><tbody><tr><td>season</td><td>STRING</td></tr><tr><td>team1</td><td>STRING</td></tr><tr><td>team2</td><td>STRING</td></tr><tr><td>date</td><td>STRING</td></tr><tr><td>match_number</td><td>STRING</td></tr><tr><td>venue</td><td>STRING</td></tr><tr><td>city</td><td>STRING</td></tr><tr><td>toss_winner</td><td>STRING</td></tr><tr><td>toss_decision</td><td>STRING</td></tr><tr><td>player_of_match</td><td>STRING</td></tr><tr><td>umpire1</td><td>STRING</td></tr><tr><td>umpire2</td><td>STRING</td></tr><tr><td>reserve_umpire</td><td>STRING</td></tr><tr><td>match_referee</td><td>STRING</td></tr><tr><td>winner</td><td>STRING</td></tr><tr><td>winner_runs</td><td>STRING</td></tr><tr><td>winner_wickets</td><td>STRING</td></tr><tr><td>match_type</td><td>STRING</td></tr></tbody></table></div>"
      ]
     },
     "metadata": {
      "application/vnd.databricks.v1+output": {
       "addedWidgets": {},
       "aggData": [],
       "aggError": "",
       "aggOverflow": false,
       "aggSchema": [],
       "aggSeriesLimitReached": false,
       "aggType": "",
       "arguments": {},
       "columnCustomDisplayInfos": {},
       "data": [
        [
         "season",
         "STRING"
        ],
        [
         "team1",
         "STRING"
        ],
        [
         "team2",
         "STRING"
        ],
        [
         "date",
         "STRING"
        ],
        [
         "match_number",
         "STRING"
        ],
        [
         "venue",
         "STRING"
        ],
        [
         "city",
         "STRING"
        ],
        [
         "toss_winner",
         "STRING"
        ],
        [
         "toss_decision",
         "STRING"
        ],
        [
         "player_of_match",
         "STRING"
        ],
        [
         "umpire1",
         "STRING"
        ],
        [
         "umpire2",
         "STRING"
        ],
        [
         "reserve_umpire",
         "STRING"
        ],
        [
         "match_referee",
         "STRING"
        ],
        [
         "winner",
         "STRING"
        ],
        [
         "winner_runs",
         "STRING"
        ],
        [
         "winner_wickets",
         "STRING"
        ],
        [
         "match_type",
         "STRING"
        ]
       ],
       "datasetInfos": [],
       "dbfsResultPath": null,
       "isJsonSchema": true,
       "metadata": {},
       "overflow": false,
       "plotOptions": {
        "customPlotOptions": {},
        "displayType": "table",
        "pivotAggregation": null,
        "pivotColumns": null,
        "xColumns": null,
        "yColumns": null
       },
       "removedWidgets": [],
       "schema": [
        {
         "metadata": "{\"comment\":\"Name of the column.\"}",
         "name": "COLUMN_NAME",
         "type": "\"string\""
        },
        {
         "metadata": "{\"comment\":\"The simple data type name of the column, or STRUCT, or ARRAY.\"}",
         "name": "DATA_TYPE",
         "type": "\"string\""
        }
       ],
       "type": "table"
      }
     },
     "output_type": "display_data"
    }
   ],
   "source": [
    "display(spark.sql(\"SELECT COLUMN_NAME, DATA_TYPE FROM INFORMATION_SCHEMA.COLUMNS WHERE TABLE_NAME = 'matches'\"))"
   ]
  },
  {
   "cell_type": "code",
   "execution_count": 0,
   "metadata": {
    "application/vnd.databricks.v1+cell": {
     "cellMetadata": {
      "byteLimit": 2048000,
      "implicitDf": true,
      "rowLimit": 10000
     },
     "inputWidgets": {},
     "nuid": "bd97398e-7148-4207-843d-a1aa0101bb1f",
     "showTitle": false,
     "title": ""
    }
   },
   "outputs": [
    {
     "output_type": "stream",
     "name": "stdout",
     "output_type": "stream",
     "text": [
      "root\n |-- season: string (nullable = true)\n |-- team1: string (nullable = true)\n |-- team2: string (nullable = true)\n |-- date: string (nullable = true)\n |-- match_number: string (nullable = true)\n |-- venue: string (nullable = true)\n |-- city: string (nullable = true)\n |-- toss_winner: string (nullable = true)\n |-- toss_decision: string (nullable = true)\n |-- player_of_match: string (nullable = true)\n |-- umpire1: string (nullable = true)\n |-- umpire2: string (nullable = true)\n |-- reserve_umpire: string (nullable = true)\n |-- match_referee: string (nullable = true)\n |-- winner: string (nullable = true)\n |-- winner_runs: string (nullable = true)\n |-- winner_wickets: string (nullable = true)\n |-- match_type: string (nullable = true)\n\n"
     ]
    }
   ],
   "source": [
    "matches_df.printSchema()"
   ]
  },
  {
   "cell_type": "code",
   "execution_count": 0,
   "metadata": {
    "application/vnd.databricks.v1+cell": {
     "cellMetadata": {
      "byteLimit": 2048000,
      "rowLimit": 10000
     },
     "inputWidgets": {},
     "nuid": "8e683b5b-2051-4630-a6bf-40067d259c53",
     "showTitle": false,
     "title": ""
    }
   },
   "outputs": [
    {
     "output_type": "stream",
     "name": "stdout",
     "output_type": "stream",
     "text": [
      "root\n |-- season: string (nullable = true)\n |-- team1: string (nullable = true)\n |-- team2: string (nullable = true)\n |-- date: date (nullable = true)\n |-- match_number: integer (nullable = true)\n |-- venue: string (nullable = true)\n |-- city: string (nullable = true)\n |-- toss_winner: string (nullable = true)\n |-- toss_decision: string (nullable = true)\n |-- player_of_match: string (nullable = true)\n |-- umpire1: string (nullable = true)\n |-- umpire2: string (nullable = true)\n |-- reserve_umpire: string (nullable = true)\n |-- match_referee: string (nullable = true)\n |-- winner: string (nullable = true)\n |-- winner_runs: integer (nullable = true)\n |-- winner_wickets: integer (nullable = true)\n |-- match_type: string (nullable = true)\n\n"
     ]
    }
   ],
   "source": [
    "from pyspark.sql.functions import col\n",
    "\n",
    "# Convert match_id column from string to integer\n",
    "matches_df = matches_df.withColumn(\"match_number\", col(\"match_number\").cast(\"int\"))\n",
    "matches_df = matches_df.withColumn(\"winner_runs\", col(\"winner_runs\").cast(\"int\"))\n",
    "matches_df = matches_df.withColumn(\"winner_wickets\", col(\"winner_wickets\").cast(\"int\"))\n",
    "matches_df = matches_df.withColumn(\"date\", col(\"date\").cast(\"date\"))\n",
    "\n",
    "\n",
    "matches_df.printSchema()\n"
   ]
  },
  {
   "cell_type": "code",
   "execution_count": 0,
   "metadata": {
    "application/vnd.databricks.v1+cell": {
     "cellMetadata": {
      "byteLimit": 2048000,
      "rowLimit": 10000
     },
     "inputWidgets": {},
     "nuid": "e6bed35d-eaf3-4266-96c4-f5abd0e1849e",
     "showTitle": false,
     "title": ""
    }
   },
   "outputs": [
    {
     "output_type": "stream",
     "name": "stdout",
     "output_type": "stream",
     "text": [
      "root\n |-- match_id: string (nullable = true)\n |-- season: string (nullable = true)\n |-- start_date: string (nullable = true)\n |-- venue: string (nullable = true)\n |-- innings: string (nullable = true)\n |-- ball: string (nullable = true)\n |-- batting_team: string (nullable = true)\n |-- bowling_team: string (nullable = true)\n |-- striker: string (nullable = true)\n |-- non_striker: string (nullable = true)\n |-- bowler: string (nullable = true)\n |-- runs_off_bat: string (nullable = true)\n |-- extras: string (nullable = true)\n |-- wides: string (nullable = true)\n |-- noballs: string (nullable = true)\n |-- byes: string (nullable = true)\n |-- legbyes: string (nullable = true)\n |-- penalty: string (nullable = true)\n |-- wicket_type: string (nullable = true)\n |-- player_dismissed: string (nullable = true)\n |-- other_wicket_type: string (nullable = true)\n |-- other_player_dismissed: string (nullable = true)\n\n"
     ]
    }
   ],
   "source": [
    "deliveries_df.printSchema()"
   ]
  },
  {
   "cell_type": "code",
   "execution_count": 0,
   "metadata": {
    "application/vnd.databricks.v1+cell": {
     "cellMetadata": {
      "byteLimit": 2048000,
      "implicitDf": true,
      "rowLimit": 10000
     },
     "inputWidgets": {},
     "nuid": "2d1ed84a-649a-468f-9495-19a326518fc7",
     "showTitle": false,
     "title": ""
    }
   },
   "outputs": [],
   "source": [
    "# Convert match_id column from string to integer\n",
    "deliveries_df = deliveries_df.withColumn(\"start_date\", col(\"start_date\").cast(\"date\"))\n",
    "deliveries_df = deliveries_df.withColumn(\"innings\", col(\"innings\").cast(\"int\"))\n",
    "deliveries_df = deliveries_df.withColumn(\"extras\", col(\"extras\").cast(\"int\"))\n",
    "deliveries_df = deliveries_df.withColumn(\"runs_off_bat\", col(\"runs_off_bat\").cast(\"int\"))\n",
    "deliveries_df = deliveries_df.withColumn(\"ball\", col(\"ball\").cast(\"decimal(10,1)\"))\n",
    "deliveries_df = deliveries_df.withColumn(\"wides\", col(\"wides\").cast(\"int\"))\n",
    "deliveries_df = deliveries_df.withColumn(\"noballs\", col(\"noballs\").cast(\"int\"))\n",
    "deliveries_df = deliveries_df.withColumn(\"byes\", col(\"byes\").cast(\"int\"))\n",
    "deliveries_df = deliveries_df.withColumn(\"legbyes\", col(\"legbyes\").cast(\"int\"))\n",
    "deliveries_df = deliveries_df.withColumn(\"penalty\", col(\"penalty\").cast(\"int\"))\n",
    "deliveries_df = deliveries_df.withColumn(\"legbyes\", col(\"legbyes\").cast(\"int\"))"
   ]
  },
  {
   "cell_type": "code",
   "execution_count": 0,
   "metadata": {
    "application/vnd.databricks.v1+cell": {
     "cellMetadata": {
      "byteLimit": 2048000,
      "rowLimit": 10000
     },
     "inputWidgets": {},
     "nuid": "50b575ae-3f0a-4320-8f86-66143813a0f0",
     "showTitle": false,
     "title": ""
    }
   },
   "outputs": [
    {
     "output_type": "stream",
     "name": "stdout",
     "output_type": "stream",
     "text": [
      "root\n |-- match_id: string (nullable = true)\n |-- season: string (nullable = true)\n |-- start_date: date (nullable = true)\n |-- venue: string (nullable = true)\n |-- innings: integer (nullable = true)\n |-- ball: decimal(10,1) (nullable = true)\n |-- batting_team: string (nullable = true)\n |-- bowling_team: string (nullable = true)\n |-- striker: string (nullable = true)\n |-- non_striker: string (nullable = true)\n |-- bowler: string (nullable = true)\n |-- runs_off_bat: string (nullable = true)\n |-- extras: integer (nullable = true)\n |-- wides: integer (nullable = true)\n |-- noballs: integer (nullable = true)\n |-- byes: integer (nullable = true)\n |-- legbyes: integer (nullable = true)\n |-- penalty: integer (nullable = true)\n |-- wicket_type: string (nullable = true)\n |-- player_dismissed: string (nullable = true)\n |-- other_wicket_type: string (nullable = true)\n |-- other_player_dismissed: string (nullable = true)\n\n"
     ]
    }
   ],
   "source": [
    "deliveries_df.printSchema()"
   ]
  },
  {
   "cell_type": "code",
   "execution_count": 0,
   "metadata": {
    "application/vnd.databricks.v1+cell": {
     "cellMetadata": {
      "byteLimit": 2048000,
      "rowLimit": 10000
     },
     "inputWidgets": {},
     "nuid": "1ac5594e-9f76-4873-96c7-990c5dbbb136",
     "showTitle": false,
     "title": ""
    }
   },
   "outputs": [],
   "source": [
    "deliveries_df.write.format(\"delta\").mode(\"overwrite\").saveAsTable(\"worldcup_t_20.deliveries_casted\")\n",
    "matches_df.write.format(\"delta\").mode(\"overwrite\").saveAsTable(\"worldcup_t_20.matches_casted\")"
   ]
  },
  {
   "cell_type": "code",
   "execution_count": 0,
   "metadata": {
    "application/vnd.databricks.v1+cell": {
     "cellMetadata": {
      "byteLimit": 2048000,
      "implicitDf": true,
      "rowLimit": 10000
     },
     "inputWidgets": {},
     "nuid": "d15b6756-c240-446d-9b7a-f34ec005f057",
     "showTitle": false,
     "title": ""
    }
   },
   "outputs": [
    {
     "output_type": "display_data",
     "data": {
      "text/html": [
       "<style scoped>\n",
       "  .table-result-container {\n",
       "    max-height: 300px;\n",
       "    overflow: auto;\n",
       "  }\n",
       "  table, th, td {\n",
       "    border: 1px solid black;\n",
       "    border-collapse: collapse;\n",
       "  }\n",
       "  th, td {\n",
       "    padding: 5px;\n",
       "  }\n",
       "  th {\n",
       "    text-align: left;\n",
       "  }\n",
       "</style><div class='table-result-container'><table class='table-result'><thead style='background-color: white'><tr><th>match_id</th><th>season</th><th>start_date</th><th>venue</th><th>innings</th><th>ball</th><th>batting_team</th><th>bowling_team</th><th>striker</th><th>non_striker</th><th>bowler</th><th>runs_off_bat</th><th>extras</th><th>wides</th><th>noballs</th><th>byes</th><th>legbyes</th><th>penalty</th><th>wicket_type</th><th>player_dismissed</th><th>other_wicket_type</th><th>other_player_dismissed</th></tr></thead><tbody><tr><td>1</td><td>2024</td><td>2024-06-02</td><td>Providence Stadium, Guyana</td><td>1</td><td>0.1</td><td>Papua New Guinea</td><td>West Indies</td><td>TP Ura</td><td>A Vala</td><td>AJ Hosein</td><td>0</td><td>0</td><td>null</td><td>null</td><td>null</td><td>null</td><td>null</td><td>null</td><td>null</td><td>null</td><td>null</td></tr><tr><td>1</td><td>2024</td><td>2024-06-02</td><td>Providence Stadium, Guyana</td><td>1</td><td>0.2</td><td>Papua New Guinea</td><td>West Indies</td><td>TP Ura</td><td>A Vala</td><td>AJ Hosein</td><td>1</td><td>0</td><td>null</td><td>null</td><td>null</td><td>null</td><td>null</td><td>null</td><td>null</td><td>null</td><td>null</td></tr><tr><td>1</td><td>2024</td><td>2024-06-02</td><td>Providence Stadium, Guyana</td><td>1</td><td>0.3</td><td>Papua New Guinea</td><td>West Indies</td><td>A Vala</td><td>TP Ura</td><td>AJ Hosein</td><td>0</td><td>0</td><td>null</td><td>null</td><td>null</td><td>null</td><td>null</td><td>null</td><td>null</td><td>null</td><td>null</td></tr><tr><td>1</td><td>2024</td><td>2024-06-02</td><td>Providence Stadium, Guyana</td><td>1</td><td>0.4</td><td>Papua New Guinea</td><td>West Indies</td><td>A Vala</td><td>TP Ura</td><td>AJ Hosein</td><td>0</td><td>0</td><td>null</td><td>null</td><td>null</td><td>null</td><td>null</td><td>null</td><td>null</td><td>null</td><td>null</td></tr><tr><td>1</td><td>2024</td><td>2024-06-02</td><td>Providence Stadium, Guyana</td><td>1</td><td>0.5</td><td>Papua New Guinea</td><td>West Indies</td><td>A Vala</td><td>TP Ura</td><td>AJ Hosein</td><td>0</td><td>0</td><td>null</td><td>null</td><td>null</td><td>null</td><td>null</td><td>null</td><td>null</td><td>null</td><td>null</td></tr><tr><td>1</td><td>2024</td><td>2024-06-02</td><td>Providence Stadium, Guyana</td><td>1</td><td>0.6</td><td>Papua New Guinea</td><td>West Indies</td><td>A Vala</td><td>TP Ura</td><td>AJ Hosein</td><td>0</td><td>0</td><td>null</td><td>null</td><td>null</td><td>null</td><td>null</td><td>null</td><td>null</td><td>null</td><td>null</td></tr><tr><td>1</td><td>2024</td><td>2024-06-02</td><td>Providence Stadium, Guyana</td><td>1</td><td>1.1</td><td>Papua New Guinea</td><td>West Indies</td><td>TP Ura</td><td>A Vala</td><td>R Shepherd</td><td>1</td><td>0</td><td>null</td><td>null</td><td>null</td><td>null</td><td>null</td><td>null</td><td>null</td><td>null</td><td>null</td></tr></tbody></table></div>"
      ]
     },
     "metadata": {
      "application/vnd.databricks.v1+output": {
       "addedWidgets": {},
       "aggData": [],
       "aggError": "",
       "aggOverflow": false,
       "aggSchema": [],
       "aggSeriesLimitReached": false,
       "aggType": "",
       "arguments": {},
       "columnCustomDisplayInfos": {},
       "data": [
        [
         "1",
         "2024",
         "2024-06-02",
         "Providence Stadium, Guyana",
         1,
         "0.1",
         "Papua New Guinea",
         "West Indies",
         "TP Ura",
         "A Vala",
         "AJ Hosein",
         0,
         0,
         null,
         null,
         null,
         null,
         null,
         null,
         null,
         null,
         null
        ],
        [
         "1",
         "2024",
         "2024-06-02",
         "Providence Stadium, Guyana",
         1,
         "0.2",
         "Papua New Guinea",
         "West Indies",
         "TP Ura",
         "A Vala",
         "AJ Hosein",
         1,
         0,
         null,
         null,
         null,
         null,
         null,
         null,
         null,
         null,
         null
        ],
        [
         "1",
         "2024",
         "2024-06-02",
         "Providence Stadium, Guyana",
         1,
         "0.3",
         "Papua New Guinea",
         "West Indies",
         "A Vala",
         "TP Ura",
         "AJ Hosein",
         0,
         0,
         null,
         null,
         null,
         null,
         null,
         null,
         null,
         null,
         null
        ],
        [
         "1",
         "2024",
         "2024-06-02",
         "Providence Stadium, Guyana",
         1,
         "0.4",
         "Papua New Guinea",
         "West Indies",
         "A Vala",
         "TP Ura",
         "AJ Hosein",
         0,
         0,
         null,
         null,
         null,
         null,
         null,
         null,
         null,
         null,
         null
        ],
        [
         "1",
         "2024",
         "2024-06-02",
         "Providence Stadium, Guyana",
         1,
         "0.5",
         "Papua New Guinea",
         "West Indies",
         "A Vala",
         "TP Ura",
         "AJ Hosein",
         0,
         0,
         null,
         null,
         null,
         null,
         null,
         null,
         null,
         null,
         null
        ],
        [
         "1",
         "2024",
         "2024-06-02",
         "Providence Stadium, Guyana",
         1,
         "0.6",
         "Papua New Guinea",
         "West Indies",
         "A Vala",
         "TP Ura",
         "AJ Hosein",
         0,
         0,
         null,
         null,
         null,
         null,
         null,
         null,
         null,
         null,
         null
        ],
        [
         "1",
         "2024",
         "2024-06-02",
         "Providence Stadium, Guyana",
         1,
         "1.1",
         "Papua New Guinea",
         "West Indies",
         "TP Ura",
         "A Vala",
         "R Shepherd",
         1,
         0,
         null,
         null,
         null,
         null,
         null,
         null,
         null,
         null,
         null
        ]
       ],
       "datasetInfos": [],
       "dbfsResultPath": null,
       "isJsonSchema": true,
       "metadata": {
        "dataframeName": "_sqldf",
        "executionCount": 134
       },
       "overflow": false,
       "plotOptions": {
        "customPlotOptions": {},
        "displayType": "table",
        "pivotAggregation": null,
        "pivotColumns": null,
        "xColumns": null,
        "yColumns": null
       },
       "removedWidgets": [],
       "schema": [
        {
         "metadata": "{}",
         "name": "match_id",
         "type": "\"string\""
        },
        {
         "metadata": "{}",
         "name": "season",
         "type": "\"string\""
        },
        {
         "metadata": "{}",
         "name": "start_date",
         "type": "\"date\""
        },
        {
         "metadata": "{}",
         "name": "venue",
         "type": "\"string\""
        },
        {
         "metadata": "{}",
         "name": "innings",
         "type": "\"integer\""
        },
        {
         "metadata": "{}",
         "name": "ball",
         "type": "\"decimal(10,1)\""
        },
        {
         "metadata": "{}",
         "name": "batting_team",
         "type": "\"string\""
        },
        {
         "metadata": "{}",
         "name": "bowling_team",
         "type": "\"string\""
        },
        {
         "metadata": "{}",
         "name": "striker",
         "type": "\"string\""
        },
        {
         "metadata": "{}",
         "name": "non_striker",
         "type": "\"string\""
        },
        {
         "metadata": "{}",
         "name": "bowler",
         "type": "\"string\""
        },
        {
         "metadata": "{}",
         "name": "runs_off_bat",
         "type": "\"integer\""
        },
        {
         "metadata": "{}",
         "name": "extras",
         "type": "\"integer\""
        },
        {
         "metadata": "{}",
         "name": "wides",
         "type": "\"integer\""
        },
        {
         "metadata": "{}",
         "name": "noballs",
         "type": "\"integer\""
        },
        {
         "metadata": "{}",
         "name": "byes",
         "type": "\"integer\""
        },
        {
         "metadata": "{}",
         "name": "legbyes",
         "type": "\"integer\""
        },
        {
         "metadata": "{}",
         "name": "penalty",
         "type": "\"integer\""
        },
        {
         "metadata": "{}",
         "name": "wicket_type",
         "type": "\"string\""
        },
        {
         "metadata": "{}",
         "name": "player_dismissed",
         "type": "\"string\""
        },
        {
         "metadata": "{}",
         "name": "other_wicket_type",
         "type": "\"string\""
        },
        {
         "metadata": "{}",
         "name": "other_player_dismissed",
         "type": "\"string\""
        }
       ],
       "type": "table"
      }
     },
     "output_type": "display_data"
    }
   ],
   "source": [
    "%sql\n",
    "select * from deliveries_casted limit 7;"
   ]
  }
 ],
 "metadata": {
  "application/vnd.databricks.v1+notebook": {
   "dashboards": [],
   "environmentMetadata": null,
   "language": "python",
   "notebookMetadata": {
    "mostRecentlyExecutedCommandWithImplicitDF": {
     "commandId": 2445887895782082,
     "dataframes": [
      "_sqldf"
     ]
    },
    "pythonIndentUnit": 4
   },
   "notebookName": "T20Worldcup_Data Transformation",
   "widgets": {}
  }
 },
 "nbformat": 4,
 "nbformat_minor": 0
}
